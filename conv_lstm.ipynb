{
 "cells": [
  {
   "cell_type": "code",
   "execution_count": 1,
   "metadata": {},
   "outputs": [
    {
     "name": "stdout",
     "output_type": "stream",
     "text": [
      "2.2.2+cpu\n"
     ]
    },
    {
     "data": {
      "text/plain": [
       "<torch._C.Generator at 0x29a47a66910>"
      ]
     },
     "execution_count": 1,
     "metadata": {},
     "output_type": "execute_result"
    }
   ],
   "source": [
    "import torch\n",
    "import torch.nn as nn\n",
    "from tqdm.notebook import tqdm\n",
    "import matplotlib.pyplot as plt\n",
    "\n",
    "print(torch.__version__)\n",
    "torch.manual_seed(1337)"
   ]
  },
  {
   "cell_type": "code",
   "execution_count": 3,
   "metadata": {},
   "outputs": [
    {
     "data": {
      "image/png": "[encoded data removed]",
      "text/plain": [
       "<Figure size 2000x400 with 20 Axes>"
      ]
     },
     "metadata": {},
     "output_type": "display_data"
    }
   ],
   "source": [
    "def get_batch(batch_size: int,\n",
    "              speed: float=None,\n",
    "              chw: tuple[int, int]=(3, 20, 20),\n",
    "              seq_len: int=10, ) -> torch.Tensor:\n",
    "    if speed is None:\n",
    "        speed = torch.randint(0, chw[2], (batch_size, )).float() / (seq_len + 1)\n",
    "\n",
    "    all = torch.zeros(batch_size, seq_len + 1, *chw)\n",
    "\n",
    "    # Create a line and move it from left to right\n",
    "    for b in range(batch_size):\n",
    "        # Generate a random starting position for the line\n",
    "        start_pos = torch.randint(0, chw[2] - int(speed[b] * seq_len), (1,)).item()\n",
    "\n",
    "        for t in range(seq_len + 1):\n",
    "            # Calculate the current position of the line\n",
    "            current_pos = start_pos + int(speed[b] * (t + 1))\n",
    "            current_pos = min(max(current_pos, 0), chw[2] - 1)  # Ensure line stays within bounds\n",
    "\n",
    "            # Fill in the pixels of the line\n",
    "            all[b, t, :, :, current_pos] = 1  # Assuming single channel\n",
    "\n",
    "    x = all[:, :-1, :, :, :]\n",
    "    y = all[:, 1:, :, :, :]\n",
    "\n",
    "    return x, y\n",
    "\n",
    "# Test the function\n",
    "batch_size = 2\n",
    "seq_len = 10\n",
    "x, y = get_batch(batch_size=batch_size, seq_len=seq_len)\n",
    "\n",
    "example_x, example_y = x[0], y[0]\n",
    "# plot each of the 10 frames using matplotlib\n",
    "fig, axs = plt.subplots(2, seq_len, figsize=(20, 4))\n",
    "for i in range(seq_len):\n",
    "    axs[0, i].imshow(example_x[i, 0], cmap='gray')\n",
    "    axs[0, i].axis('off')\n",
    "    axs[0, i].set_title(f'x[{i}]')\n",
    "    axs[1, i].imshow(example_y[i, 0], cmap='gray')\n",
    "    axs[1, i].axis('off')\n",
    "    axs[1, i].set_title(f'y[{i}]')"
   ]
  },
  {
   "cell_type": "code",
   "execution_count": 4,
   "metadata": {},
   "outputs": [],
   "source": [
    "class ConvLSTMCell(nn.Module):\n",
    "    \"\"\"Implementation based on the paper: Convolutional LSTM Network: A Machine Learning Approach for Precipitation Nowcasting (https://arxiv.org/abs/1506.04214).\"\"\"\n",
    "    def __init__(self, \n",
    "                 in_shape: tuple[int, int, int],\n",
    "                 out_channels: int,\n",
    "                 kernel_size: int,\n",
    "                 activation: str='tanh'):\n",
    "        \"\"\"The constructor of the ConvLSTM cell. The cell is supposed to act similarly to the default nn.LSTM cell, but with convolutional layers instead of linear layers.\n",
    "        \n",
    "        :param in_shape: The shape of the input tensor (in_channels, height, width).\n",
    "        :param out_channels: The number of output channels of the cell.\n",
    "        :param kernel_size: The size of the convolutional kernel.\n",
    "        :param activation: The activation function of the cell. Can be either 'relu' or 'tanh'.\n",
    "        \"\"\"\n",
    "        super(ConvLSTMCell, self).__init__()\n",
    "\n",
    "        assert activation in [\"relu\", \"tanh\"], \"Activation must be either 'relu' or 'tanh'.\"\n",
    "        assert kernel_size % 2 == 1, \"Kernel size must be odd.\"\n",
    "\n",
    "        if activation == \"tanh\": self.activation = torch.tanh \n",
    "        elif activation == \"relu\": self.activation = torch.relu\n",
    "\n",
    "        # Single convolutional layer will do all calculations in parallel\n",
    "        self.conv = nn.Conv2d(in_channels=in_shape[0] + out_channels, \n",
    "                              out_channels=4 * out_channels, \n",
    "                              kernel_size=kernel_size, \n",
    "                              padding=kernel_size // 2)  \n",
    "\n",
    "        # The biases for the gates\n",
    "        self.W_ci = nn.Parameter(torch.randn(1, out_channels, in_shape[1], in_shape[2]))\n",
    "        self.W_co = nn.Parameter(torch.randn(1, out_channels, in_shape[1], in_shape[2]))\n",
    "        self.W_cf = nn.Parameter(torch.randn(1, out_channels, in_shape[1], in_shape[2]))\n",
    "\n",
    "    def forward(self, x: torch.Tensor, h_prev: torch.Tensor, c_prev: torch.Tensor) -> tuple[torch.Tensor, torch.Tensor]:\n",
    "        \"\"\"The forward pass of the ConvLSTM cell. The ConvLSTM is supposed to act similarly to the \n",
    "        default nn.LSTM cell, but with convolutional layers instead of linear layers.\n",
    "\n",
    "        :param x: The input tensor of shape (batch_size, in_channels, height, width).\n",
    "        :param h_prev: The hidden state of the previous time step. (batch_size, out_channels, height, width)\n",
    "        :param c_prev: The cell state of the previous time step. (batch_size, out_channels, height, width)\n",
    "\n",
    "        :return: (ct, ht) The cell state and the hidden state of the current time step. Both are of shape (batch_size, out_channels, height, width).\n",
    "        \"\"\"\n",
    "        # Concatenate the input tensor with the hidden state along the channel dimension\n",
    "        xh = torch.cat([x, h_prev], dim=1) # (batch_size, in_channels + out_channels, height, width)\n",
    "        # Put the concatenated tensor through the convolutional layer\n",
    "        # NOTE: The output of the convolutional layer is split into 4 parts: input gate, forget gate, cell state, output gate (the output channels of the conv is 4 * out_channels)\n",
    "        i_conv, f_conv, C_conv, o_conv = torch.chunk(self.conv(xh), chunks=4, dim=1) # each element is of shape (batch_size, out_channels, height, width)\n",
    "\n",
    "        it = torch.sigmoid(i_conv + self.W_ci * c_prev) # (batch_size, out_channels, height, width)\n",
    "        ft = torch.sigmoid(f_conv + self.W_cf * c_prev) # (batch_size, out_channels, height, width)\n",
    "        ct = ft * c_prev + it * self.activation(C_conv) # (batch_size, out_channels, height, width)\n",
    "        ot = torch.sigmoid(o_conv + self.W_co * ct) # (batch_size, out_channels, height, width)\n",
    "        ht = ot * self.activation(ct) # (batch_size, out_channels, height, width)\n",
    "\n",
    "        return ht, ct\n",
    "\n",
    "class ConvLSTM(nn.Module):\n",
    "    def __init__(self, \n",
    "                 in_shape: tuple[int, int, int], \n",
    "                 out_channels: int, \n",
    "                 kernel_size: int, \n",
    "                 activation: str='tanh'):\n",
    "        \"\"\"The constructor of the ConvLSTM layer. The layer is supposed to act similarly to the default nn.LSTM cell, but with convolutional layers instead of linear layers.\n",
    "        \n",
    "        :param in_shape: The shape of the input tensor (in_channels, height, width).\n",
    "        :param out_channels: The number of output channels of the cell.\n",
    "        :param kernel_size: The size of the convolutional kernel.\n",
    "        :param activation: The activation function of the cell. Can be either 'relu' or 'tanh'.\n",
    "        \"\"\"\n",
    "        super(ConvLSTM, self).__init__()\n",
    "        self.out_channels = out_channels\n",
    "        self.cell = ConvLSTMCell(in_shape, out_channels, kernel_size, activation)\n",
    "\n",
    "    def forward(self, x: torch.Tensor, h0c0: tuple[torch.Tensor, torch.Tensor]=None) -> tuple[torch.Tensor, tuple[torch.Tensor, torch.Tensor]]:\n",
    "        \"\"\"The forward pass of the ConvLSTM cell. The ConvLSTM is supposed to act similarly to the PyTorch nn.LSTM layer, but with convolutional layers instead of linear layers.\n",
    "        \n",
    "        :param x: The input tensor of shape (batch_size, seq_len, in_channels, height, width).\n",
    "        :param h0c0: The initial hidden and cell states. Both are of shape (batch_size, out_channels, height, width). If None, the initial states are set to zeros.\n",
    "\n",
    "        :return: output, (h_n, c_n) where:\n",
    "            - output: The output tensor of shape (batch_size, seq_len, out_channels, height, width).\n",
    "            - h_n: The hidden state of the last time step. (batch_size, out_channels, height, width).\n",
    "            - c_n: The cell state of the last time step. (batch_size, out_channels, height, width).\n",
    "        \"\"\"\n",
    "        batch_size, seq_len, _, height, width = x.shape\n",
    "        if h0c0 is None:\n",
    "            h0 = torch.zeros(batch_size, self.out_channels, height, width)\n",
    "            c0 = torch.zeros(batch_size, self.out_channels, height, width)\n",
    "        else:\n",
    "            h0, c0 = h0c0\n",
    "        \n",
    "        h = h0\n",
    "        c = c0\n",
    "        output = []\n",
    "        for t in range(seq_len):\n",
    "            h, c = self.cell(x[:, t], h, c)\n",
    "            output.append(h)\n",
    "        \n",
    "        return torch.stack(output, dim=1), (h, c)\n",
    "\n",
    "class Model(nn.Module):\n",
    "    def __init__(self, hidden_dim: int, out_channels: int, input_shape: tuple[int, int, int]):\n",
    "        super(Model, self).__init__()\n",
    "        self.out_channels = out_channels\n",
    "        self.lstm = ConvLSTM(input_shape, hidden_dim, 3)\n",
    "        self.conv = nn.Conv2d(hidden_dim, out_channels, kernel_size=1)\n",
    "    \n",
    "    def forward(self, x, target=None):\n",
    "        h, _ = self.lstm(x) # (batch_size, seq_len, hidden_dim, height, width)\n",
    "        # NOTE: PyTorch doesn't accept the shape (batch_size, seq_len, channels, height, width) for the convolutional layer, so we need to reshape the tensor\n",
    "        h = h.view(-1, *h.shape[2:])\n",
    "        y = self.conv(h).view(x.shape[0], x.shape[1], self.out_channels, x.shape[-2], x.shape[-1])\n",
    "\n",
    "        if target is not None:\n",
    "            loss = nn.MSELoss()(y, target)\n",
    "            return y, loss\n",
    "        else: \n",
    "            return y, None"
   ]
  },
  {
   "cell_type": "markdown",
   "metadata": {},
   "source": [
    "### Print the number of parameters\n",
    "NOTE: The original ConvLSTM implementation suffers from large parameter counts whenever the image sizes get too large. This is due to the gates in the ConvLSTMCell since these take on the exact dimensions of the input."
   ]
  },
  {
   "cell_type": "code",
   "execution_count": 5,
   "metadata": {},
   "outputs": [
    {
     "name": "stdout",
     "output_type": "stream",
     "text": [
      "Number of parameters (3, 1280, 1280): 245855753\n"
     ]
    }
   ],
   "source": [
    "model = Model(50, 3, (3, 1280, 1280))\n",
    "print(f\"Number of parameters (3, 1280, 1280): {sum(p.numel() for p in model.parameters())}\")"
   ]
  },
  {
   "cell_type": "code",
   "execution_count": 6,
   "metadata": {},
   "outputs": [
    {
     "name": "stdout",
     "output_type": "stream",
     "text": [
      "Number of parameters (3, 10, 10): 110203\n"
     ]
    }
   ],
   "source": [
    "model = Model(40, 3, (3, 20, 20))\n",
    "optimizer = torch.optim.Adam(model.parameters(), lr=0.01)\n",
    "print(f\"Number of parameters (3, 20, 20): {sum(p.numel() for p in model.parameters())}\")"
   ]
  },
  {
   "cell_type": "code",
   "execution_count": 7,
   "metadata": {},
   "outputs": [
    {
     "data": {
      "application/vnd.jupyter.widget-view+json": {
       "model_id": "b70fcce96a954a93bd9a767110a02704",
       "version_major": 2,
       "version_minor": 0
      },
      "text/plain": [
       "  0%|          | 0/5000 [00:00<?, ?it/s]"
      ]
     },
     "metadata": {},
     "output_type": "display_data"
    },
    {
     "name": "stdout",
     "output_type": "stream",
     "text": [
      "Epoch 499 - Loss: 0.09983098701573909\n",
      "Epoch 999 - Loss: 0.08091029278002679\n",
      "Epoch 1499 - Loss: 0.07883379109203816\n",
      "Epoch 1999 - Loss: 0.07813401460647583\n",
      "Epoch 2499 - Loss: 0.07687995491549372\n",
      "Epoch 2999 - Loss: 0.07731965745799244\n",
      "Epoch 3499 - Loss: 0.07681311232969165\n",
      "Epoch 3999 - Loss: 0.07709391065873206\n",
      "Epoch 4499 - Loss: 0.0755440048314631\n",
      "Epoch 4999 - Loss: 0.07703172949142754\n"
     ]
    }
   ],
   "source": [
    "# Training loop\n",
    "total_loss = 0\n",
    "\n",
    "for i in tqdm(range(5000)):\n",
    "    x, y = get_batch(batch_size=16, chw=(3, 20, 20), seq_len=10)\n",
    "    optimizer.zero_grad(set_to_none=True)\n",
    "    y_pred, loss = model(x, y)\n",
    "    loss.backward()\n",
    "    optimizer.step()\n",
    "\n",
    "    total_loss += loss.item()\n",
    "\n",
    "    if i % 500 == 499:\n",
    "        print(f\"Epoch {i} - Loss: {total_loss / 100}\")\n",
    "        total_loss = 0"
   ]
  },
  {
   "cell_type": "code",
   "execution_count": 11,
   "metadata": {},
   "outputs": [
    {
     "data": {
      "text/plain": [
       "Text(0.5, 1.0, 'GT3')"
      ]
     },
     "execution_count": 11,
     "metadata": {},
     "output_type": "execute_result"
    },
    {
     "data": {
      "image/png": "[encoded data removed]",
      "text/plain": [
       "<Figure size 1000x600 with 6 Axes>"
      ]
     },
     "metadata": {},
     "output_type": "display_data"
    }
   ],
   "source": [
    "hc = None\n",
    "\n",
    "data, y = get_batch(1, speed=[1.4], chw=(3, 20, 20), seq_len=10)\n",
    "with torch.no_grad():\n",
    "    x = data[0, 0].unsqueeze(0).unsqueeze(0)\n",
    "    gt1 = y[0, 0].clone()\n",
    "\n",
    "    inter, hc = model.lstm(x, hc)\n",
    "    y1 = model.conv(inter.view(1, *inter.shape[2:]))\n",
    "\n",
    "    x = data[0, 1].unsqueeze(0).unsqueeze(0)\n",
    "    gt2 = y[0, 1].clone()\n",
    "\n",
    "    inter, hc = model.lstm(x, hc)\n",
    "    y2 = model.conv(inter.view(1, *inter.shape[2:]))\n",
    "\n",
    "    x = data[0, 2].unsqueeze(0).unsqueeze(0)\n",
    "    gt3 = y[0, 2].clone()\n",
    "\n",
    "    inter, hc = model.lstm(x, hc)\n",
    "    y3 = model.conv(inter.view(1, *inter.shape[2:]))\n",
    "\n",
    "fig, axs = plt.subplots(2, 3, figsize=(10, 6))\n",
    "vmin, vmax = -0.1, 1.1\n",
    "axs[0, 0].imshow(y1.squeeze()[0], vmin=vmin, vmax=vmax)\n",
    "axs[0, 0].set_title(\"Y1\")\n",
    "axs[0, 1].imshow(y2.squeeze()[0], vmin=vmin, vmax=vmax)\n",
    "axs[0, 1].set_title(\"Y2\")\n",
    "axs[0, 2].imshow(y3.squeeze()[0], vmin=vmin, vmax=vmax)\n",
    "axs[0, 2].set_title(\"Y3\")\n",
    "axs[1, 0].imshow(gt1.squeeze()[0], vmin=vmin, vmax=vmax)\n",
    "axs[1, 0].set_title(\"GT1\")\n",
    "axs[1, 1].imshow(gt2.squeeze()[0], vmin=vmin, vmax=vmax)\n",
    "axs[1, 1].set_title(\"GT2\")\n",
    "axs[1, 2].imshow(gt3.squeeze()[0], vmin=vmin, vmax=vmax)\n",
    "axs[1, 2].set_title(\"GT3\")"
   ]
  },
  {
   "cell_type": "code",
   "execution_count": null,
   "metadata": {},
   "outputs": [],
   "source": []
  }
 ],
 "metadata": {
  "kernelspec": {
   "display_name": "Python 3",
   "language": "python",
   "name": "python3"
  },
  "language_info": {
   "codemirror_mode": {
    "name": "ipython",
    "version": 3
   },
   "file_extension": ".py",
   "mimetype": "text/x-python",
   "name": "python",
   "nbconvert_exporter": "python",
   "pygments_lexer": "ipython3",
   "version": "3.12.3"
  }
 },
 "nbformat": 4,
 "nbformat_minor": 2
}
