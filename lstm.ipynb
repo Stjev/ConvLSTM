{
 "cells": [
  {
   "cell_type": "code",
   "execution_count": 1,
   "metadata": {},
   "outputs": [
    {
     "name": "stdout",
     "output_type": "stream",
     "text": [
      "2.2.2+cpu\n"
     ]
    }
   ],
   "source": [
    "import torch\n",
    "import torch.nn as nn\n",
    "\n",
    "print(torch.__version__)"
   ]
  },
  {
   "cell_type": "code",
   "execution_count": 2,
   "metadata": {},
   "outputs": [],
   "source": [
    "def get_batch(batch_size: int, seq_len: int=10) -> torch.Tensor:\n",
    "    x = torch.randn((batch_size, seq_len, 1))\n",
    "    y = torch.cumsum(x, dim=1)\n",
    "    \n",
    "    return x, y"
   ]
  },
  {
   "cell_type": "code",
   "execution_count": 3,
   "metadata": {},
   "outputs": [],
   "source": [
    "class Model(nn.Module):\n",
    "    def __init__(self, hidden_dim: int):\n",
    "        super(Model, self).__init__()\n",
    "        self.lstm = nn.LSTM(1, hidden_dim, batch_first=True)\n",
    "        self.fc = nn.Linear(hidden_dim, 1)\n",
    "    \n",
    "    def forward(self, x, target=None):\n",
    "        h, _ = self.lstm(x)\n",
    "        y = self.fc(h)\n",
    "\n",
    "        if target is not None:\n",
    "            loss = nn.MSELoss()(y, target)\n",
    "            return y, loss\n",
    "        else: \n",
    "            return y, None\n",
    "        \n",
    "model = Model(32)\n",
    "x, y = get_batch(32, 10)\n",
    "y_hat, loss = model(x, y)"
   ]
  },
  {
   "cell_type": "code",
   "execution_count": 4,
   "metadata": {},
   "outputs": [
    {
     "name": "stdout",
     "output_type": "stream",
     "text": [
      "Number of parameters: 10651\n"
     ]
    }
   ],
   "source": [
    "model = Model(50)\n",
    "optimizer = torch.optim.Adam(model.parameters(), lr=0.01)\n",
    "print(f\"Number of parameters: {sum(p.numel() for p in model.parameters())}\")"
   ]
  },
  {
   "cell_type": "code",
   "execution_count": 5,
   "metadata": {},
   "outputs": [
    {
     "name": "stdout",
     "output_type": "stream",
     "text": [
      "Epoch 499 - Loss: 0.6777813371364028\n",
      "Epoch 999 - Loss: 0.0074887769510678485\n",
      "Epoch 1499 - Loss: 0.006045350203276029\n",
      "Epoch 1999 - Loss: 0.01876315464498475\n",
      "Epoch 2499 - Loss: 0.0009290905124362325\n",
      "Epoch 2999 - Loss: 0.0034977569584953017\n",
      "Epoch 3499 - Loss: 0.0036023992789705516\n",
      "Epoch 3999 - Loss: 0.006128725718372152\n",
      "Epoch 4499 - Loss: 0.0031855731414907494\n",
      "Epoch 4999 - Loss: 0.003935306051789667\n"
     ]
    }
   ],
   "source": [
    "# Training loop\n",
    "total_loss = 0\n",
    "\n",
    "for i in range(5000):\n",
    "    x, y = get_batch(512)\n",
    "    optimizer.zero_grad(set_to_none=True)\n",
    "    y_pred, loss = model(x, y)\n",
    "    loss.backward()\n",
    "    optimizer.step()\n",
    "\n",
    "    total_loss += loss.item()\n",
    "\n",
    "    if i % 500 == 499:\n",
    "        print(f\"Epoch {i} - Loss: {total_loss / 100}\")\n",
    "        total_loss = 0"
   ]
  },
  {
   "cell_type": "code",
   "execution_count": 6,
   "metadata": {},
   "outputs": [
    {
     "name": "stdout",
     "output_type": "stream",
     "text": [
      "tensor([-1.5836, -0.2945,  1.4568,  0.1181, -0.8401, -1.7151, -1.8321, -0.5571])\n",
      "GT: tensor([-1.5836, -1.8781, -0.4213, -0.3032, -1.1433, -2.8584, -4.6906, -5.2477])\n",
      "Pred: tensor([-1.5836, -1.8733, -0.4260, -0.3078, -1.1487, -2.8627, -4.7022, -5.2570])\n",
      "Loss: 4.20053765992634e-05\n",
      "Max difference: 0.011635780334472656\n"
     ]
    }
   ],
   "source": [
    "with torch.no_grad():\n",
    "    x, y = get_batch(1, 8)\n",
    "    y_pred, _ = model(x)\n",
    "\n",
    "    print(x.view(-1))\n",
    "    print(\"GT:\", y.view(-1))\n",
    "    print(\"Pred:\", y_pred.view(-1))\n",
    "\n",
    "    print(\"Loss:\", nn.MSELoss()(y_pred, y).item())\n",
    "    print(\"Max difference:\", (y_pred - y).abs().max().item())"
   ]
  },
  {
   "cell_type": "code",
   "execution_count": null,
   "metadata": {},
   "outputs": [],
   "source": []
  }
 ],
 "metadata": {
  "kernelspec": {
   "display_name": "Python 3",
   "language": "python",
   "name": "python3"
  },
  "language_info": {
   "codemirror_mode": {
    "name": "ipython",
    "version": 3
   },
   "file_extension": ".py",
   "mimetype": "text/x-python",
   "name": "python",
   "nbconvert_exporter": "python",
   "pygments_lexer": "ipython3",
   "version": "3.12.3"
  }
 },
 "nbformat": 4,
 "nbformat_minor": 2
}
